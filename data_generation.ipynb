{
 "cells": [
  {
   "cell_type": "code",
   "execution_count": 1,
   "metadata": {},
   "outputs": [],
   "source": [
    "import pandas as pd\n",
    "import numpy as np\n",
    "import matplotlib.pyplot as plt\n",
    "\n",
    "# Setting the random seed for reproducibility\n",
    "np.random.seed(42)\n",
    "\n",
    "# Generating 1000 random dates within a year\n",
    "date_range = pd.date_range(start='2023-01-01', end='2023-12-31', periods=1000)\n",
    "\n",
    "# Randomly choosing categories and stores\n",
    "categories = ['Electronics', 'Furniture', 'Clothing', 'Toys', 'Groceries']\n",
    "stores = ['Target', 'Walmart', 'Kroger']\n",
    "\n",
    "category_choices = np.random.choice(categories, size=1000)\n",
    "store_choices = np.random.choice(stores, size=1000)\n",
    "\n",
    "# Generating varying distributions of sales values for each category\n",
    "sales = np.zeros(1000)\n",
    "for category in categories:\n",
    "    indices = np.where(category_choices == category)[0]\n",
    "    if category == 'Electronics':\n",
    "        sales[indices] = np.random.normal(loc=800, scale=100, size=len(indices))\n",
    "    elif category == 'Furniture':\n",
    "        sales[indices] = np.random.normal(loc=500, scale=150, size=len(indices))\n",
    "    elif category == 'Clothing':\n",
    "        sales[indices] = np.random.normal(loc=200, scale=50, size=len(indices))\n",
    "    elif category == 'Toys':\n",
    "        sales[indices] = np.random.normal(loc=300, scale=80, size=len(indices))\n",
    "    elif category == 'Groceries':\n",
    "        sales[indices] = np.random.normal(loc=100, scale=30, size=len(indices))\n",
    "\n",
    "# Clipping the sales to ensure they are all positive\n",
    "sales = np.clip(sales, 10, 1000)\n",
    "\n",
    "# Creating the DataFrame\n",
    "data = {\n",
    "    'Date': date_range,\n",
    "    'Category': category_choices,\n",
    "    'Store': store_choices,\n",
    "    'Sales': sales\n",
    "}\n",
    "\n",
    "df = pd.DataFrame(data)\n",
    "\n",
    "# Adjusting the Date column to show only the date part\n",
    "df['Date'] = df['Date'].dt.date\n",
    "\n",
    "# Rounding the Sales column to the nearest integer\n",
    "df['Sales'] = df['Sales'].round().astype(int)"
   ]
  }
 ],
 "metadata": {
  "kernelspec": {
   "display_name": "base",
   "language": "python",
   "name": "python3"
  },
  "language_info": {
   "codemirror_mode": {
    "name": "ipython",
    "version": 3
   },
   "file_extension": ".py",
   "mimetype": "text/x-python",
   "name": "python",
   "nbconvert_exporter": "python",
   "pygments_lexer": "ipython3",
   "version": "3.11.7"
  }
 },
 "nbformat": 4,
 "nbformat_minor": 2
}
